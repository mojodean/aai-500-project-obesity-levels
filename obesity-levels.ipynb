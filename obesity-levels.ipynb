{
 "cells": [
  {
   "cell_type": "markdown",
   "metadata": {},
   "source": [
    "# Obesity Levels Research Project\n",
    "## AAI 500 - Fall 2024\n",
    "\n",
    "### Researchers\n",
    "\n",
    "    Bosky Atani\n",
    "    Dean P. Simmer"
   ]
  },
  {
   "cell_type": "code",
   "execution_count": null,
   "metadata": {},
   "outputs": [],
   "source": []
  }
 ],
 "metadata": {
  "language_info": {
   "name": "python"
  }
 },
 "nbformat": 4,
 "nbformat_minor": 2
}
